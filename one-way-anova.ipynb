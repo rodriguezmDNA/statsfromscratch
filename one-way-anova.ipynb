{
 "cells": [
  {
   "cell_type": "code",
   "execution_count": 1,
   "metadata": {},
   "outputs": [],
   "source": [
    "import seaborn as sns\n",
    "import scipy.stats as stats\n",
    "import numpy as np\n",
    "import matplotlib.pyplot as plt"
   ]
  },
  {
   "cell_type": "code",
   "execution_count": 2,
   "metadata": {},
   "outputs": [],
   "source": [
    "palette = sns.color_palette()"
   ]
  },
  {
   "cell_type": "code",
   "execution_count": 3,
   "metadata": {},
   "outputs": [
    {
     "name": "stdout",
     "output_type": "stream",
     "text": [
      "   sepal_length  sepal_width  petal_length  petal_width species\n",
      "0           5.1          3.5           1.4          0.2  setosa\n",
      "1           4.9          3.0           1.4          0.2  setosa\n",
      "2           4.7          3.2           1.3          0.2  setosa\n",
      "3           4.6          3.1           1.5          0.2  setosa\n",
      "4           5.0          3.6           1.4          0.2  setosa\n"
     ]
    }
   ],
   "source": [
    "# Load the iris dataset\n",
    "iris = sns.load_dataset('iris')\n",
    "# Display the first few rows of the dataset\n",
    "print(iris.head())"
   ]
  },
  {
   "cell_type": "code",
   "execution_count": 4,
   "metadata": {},
   "outputs": [],
   "source": [
    "import statsmodels.api as sm\n",
    "import statsmodels.formula.api as smf\n"
   ]
  },
  {
   "cell_type": "code",
   "execution_count": 5,
   "metadata": {},
   "outputs": [
    {
     "name": "stdout",
     "output_type": "stream",
     "text": [
      "ANOVA table for sepal_width:\n",
      "             df     sum_sq   mean_sq         F        PR(>F)\n",
      "species     2.0  11.344933  5.672467  49.16004  4.492017e-17\n",
      "Residual  147.0  16.962000  0.115388       NaN           NaN\n"
     ]
    }
   ],
   "source": [
    "model = smf.ols('sepal_width ~ species', data=iris).fit()\n",
    "anova_table = sm.stats.anova_lm(model, typ=1)\n",
    "\n",
    "# Print the ANOVA table\n",
    "print(\"ANOVA table for sepal_width:\")\n",
    "print(anova_table)"
   ]
  },
  {
   "cell_type": "code",
   "execution_count": null,
   "metadata": {},
   "outputs": [],
   "source": []
  },
  {
   "cell_type": "code",
   "execution_count": 6,
   "metadata": {},
   "outputs": [
    {
     "data": {
      "image/png": "[encoded data removed]",
      "text/plain": [
       "<Figure size 400x200 with 1 Axes>"
      ]
     },
     "metadata": {},
     "output_type": "display_data"
    }
   ],
   "source": [
    "# Plot the data\n",
    "plt.figure(figsize=(4, 2))\n",
    "sns.boxplot(x='species', y='sepal_width', data=iris)\n",
    "plt.title('Sepal Width by Species')\n",
    "plt.show()"
   ]
  },
  {
   "cell_type": "markdown",
   "metadata": {},
   "source": [
    "-----"
   ]
  },
  {
   "cell_type": "code",
   "execution_count": 7,
   "metadata": {},
   "outputs": [],
   "source": [
    "setosa_sepal_width = iris[iris['species'] == 'setosa']['sepal_width']\n",
    "virginica_sepal_width = iris[iris['species'] == 'virginica']['sepal_width']\n",
    "versicolor_sepal_width = iris[iris['species'] == 'versicolor']['sepal_width']"
   ]
  },
  {
   "cell_type": "code",
   "execution_count": 8,
   "metadata": {},
   "outputs": [],
   "source": [
    "setosa_n = len(setosa_sepal_width)\n",
    "virginica_n = len(virginica_sepal_width)\n",
    "versicolor_n = len(versicolor_sepal_width)\n",
    "\n",
    "\n",
    "n_obs = len(iris['species'])\n",
    "n_species =len(set(iris['species']))\n",
    "\n",
    "\n",
    "df_within = (n_obs-n_species)\n",
    "df_between = (n_species-1)"
   ]
  },
  {
   "cell_type": "code",
   "execution_count": 9,
   "metadata": {},
   "outputs": [
    {
     "data": {
      "text/plain": [
       "(50, 150, 147, 2)"
      ]
     },
     "execution_count": 9,
     "metadata": {},
     "output_type": "execute_result"
    }
   ],
   "source": [
    "setosa_n, n_obs, df_within, df_between"
   ]
  },
  {
   "cell_type": "code",
   "execution_count": 10,
   "metadata": {},
   "outputs": [],
   "source": [
    "grand_mean = iris['sepal_width'].mean()\n",
    "species_mean = iris[['species','sepal_width']].groupby('species').mean().to_dict()['sepal_width']"
   ]
  },
  {
   "cell_type": "code",
   "execution_count": 11,
   "metadata": {},
   "outputs": [
    {
     "data": {
      "text/plain": [
       "(3.0573333333333337,\n",
       " {'setosa': 3.428, 'versicolor': 2.77, 'virginica': 2.9739999999999998})"
      ]
     },
     "execution_count": 11,
     "metadata": {},
     "output_type": "execute_result"
    }
   ],
   "source": [
    "grand_mean,species_mean"
   ]
  },
  {
   "cell_type": "markdown",
   "metadata": {},
   "source": [
    "__within group sum of squares__"
   ]
  },
  {
   "cell_type": "code",
   "execution_count": 12,
   "metadata": {},
   "outputs": [],
   "source": [
    "setosa_ssw = np.sum((setosa_sepal_width - species_mean['setosa'])**2)\n",
    "virginica_ssw = np.sum((virginica_sepal_width - species_mean['virginica'])**2)\n",
    "versicolor_ssw = np.sum((versicolor_sepal_width - species_mean['versicolor'])**2)"
   ]
  },
  {
   "cell_type": "code",
   "execution_count": 13,
   "metadata": {},
   "outputs": [
    {
     "data": {
      "text/plain": [
       "16.962"
      ]
     },
     "execution_count": 13,
     "metadata": {},
     "output_type": "execute_result"
    }
   ],
   "source": [
    "total_ssw = setosa_ssw + virginica_ssw + versicolor_ssw\n",
    "total_ssw"
   ]
  },
  {
   "cell_type": "code",
   "execution_count": 14,
   "metadata": {},
   "outputs": [
    {
     "data": {
      "text/plain": [
       "0.11538775510204081"
      ]
     },
     "execution_count": 14,
     "metadata": {},
     "output_type": "execute_result"
    }
   ],
   "source": [
    "mean_squares_ssw = total_ssw / df_within\n",
    "mean_squares_ssw"
   ]
  },
  {
   "cell_type": "markdown",
   "metadata": {},
   "source": [
    "__between group sum of squares__"
   ]
  },
  {
   "cell_type": "code",
   "execution_count": 15,
   "metadata": {},
   "outputs": [],
   "source": [
    "setosa_ssb = len(setosa_sepal_width) * (species_mean['setosa'] - grand_mean)**2\n",
    "virginica_ssb = len(virginica_sepal_width) * (species_mean['virginica'] - grand_mean)**2\n",
    "versicolor_ssb = len(versicolor_sepal_width) * (species_mean['versicolor'] - grand_mean)**2"
   ]
  },
  {
   "cell_type": "code",
   "execution_count": 16,
   "metadata": {},
   "outputs": [
    {
     "data": {
      "text/plain": [
       "11.344933333333332"
      ]
     },
     "execution_count": 16,
     "metadata": {},
     "output_type": "execute_result"
    }
   ],
   "source": [
    "total_ssb = setosa_ssb + virginica_ssb + versicolor_ssb\n",
    "total_ssb"
   ]
  },
  {
   "cell_type": "code",
   "execution_count": 17,
   "metadata": {},
   "outputs": [
    {
     "data": {
      "text/plain": [
       "5.672466666666666"
      ]
     },
     "execution_count": 17,
     "metadata": {},
     "output_type": "execute_result"
    }
   ],
   "source": [
    "mean_squares_ssb = total_ssb/ df_between\n",
    "mean_squares_ssb"
   ]
  },
  {
   "cell_type": "markdown",
   "metadata": {},
   "source": [
    "__F value__"
   ]
  },
  {
   "cell_type": "code",
   "execution_count": 18,
   "metadata": {},
   "outputs": [
    {
     "data": {
      "text/plain": [
       "49.16004008961207"
      ]
     },
     "execution_count": 18,
     "metadata": {},
     "output_type": "execute_result"
    }
   ],
   "source": [
    "observed_F_ratio = mean_squares_ssb/mean_squares_ssw\n",
    "observed_F_ratio"
   ]
  },
  {
   "cell_type": "code",
   "execution_count": 19,
   "metadata": {},
   "outputs": [],
   "source": [
    "alpha = 0.05"
   ]
  },
  {
   "cell_type": "code",
   "execution_count": 20,
   "metadata": {},
   "outputs": [
    {
     "data": {
      "text/plain": [
       "3.057620651649394"
      ]
     },
     "execution_count": 20,
     "metadata": {},
     "output_type": "execute_result"
    }
   ],
   "source": [
    "critical_F_ratio = stats.f.ppf(1 - alpha, df_between, df_within)\n",
    "critical_F_ratio"
   ]
  },
  {
   "cell_type": "code",
   "execution_count": 21,
   "metadata": {},
   "outputs": [
    {
     "data": {
      "text/plain": [
       "1.1102230246251565e-16"
      ]
     },
     "execution_count": 21,
     "metadata": {},
     "output_type": "execute_result"
    }
   ],
   "source": [
    "(1 - stats.f.cdf(observed_F_ratio, df_between, df_within))"
   ]
  },
  {
   "cell_type": "code",
   "execution_count": 22,
   "metadata": {},
   "outputs": [
    {
     "data": {
      "text/plain": [
       "F_onewayResult(statistic=49.160040089612075, pvalue=4.492017133309115e-17)"
      ]
     },
     "execution_count": 22,
     "metadata": {},
     "output_type": "execute_result"
    }
   ],
   "source": [
    "anova_result = stats.f_oneway(\n",
    "    iris[iris['species'] == 'setosa']['sepal_width'],\n",
    "    iris[iris['species'] == 'versicolor']['sepal_width'],\n",
    "    iris[iris['species'] == 'virginica']['sepal_width']\n",
    ")\n",
    "anova_result"
   ]
  },
  {
   "cell_type": "code",
   "execution_count": 23,
   "metadata": {},
   "outputs": [
    {
     "data": {
      "text/plain": [
       "49.16004008961207"
      ]
     },
     "execution_count": 23,
     "metadata": {},
     "output_type": "execute_result"
    }
   ],
   "source": [
    "observed_F_ratio"
   ]
  },
  {
   "cell_type": "code",
   "execution_count": 29,
   "metadata": {},
   "outputs": [
    {
     "data": {
      "text/plain": [
       "4.492017133309115e-17"
      ]
     },
     "execution_count": 29,
     "metadata": {},
     "output_type": "execute_result"
    }
   ],
   "source": [
    "stats.f.sf(observed_F_ratio, df_between, df_within)"
   ]
  },
  {
   "cell_type": "code",
   "execution_count": 24,
   "metadata": {},
   "outputs": [],
   "source": [
    "from scipy.special import fdtrc"
   ]
  },
  {
   "cell_type": "code",
   "execution_count": 25,
   "metadata": {},
   "outputs": [
    {
     "data": {
      "text/plain": [
       "True"
      ]
     },
     "execution_count": 25,
     "metadata": {},
     "output_type": "execute_result"
    }
   ],
   "source": [
    "anova_result.pvalue == fdtrc(df_between, df_within, observed_F_ratio)"
   ]
  },
  {
   "cell_type": "markdown",
   "metadata": {},
   "source": [
    "-----"
   ]
  },
  {
   "cell_type": "markdown",
   "metadata": {},
   "source": [
    "### Tukey test"
   ]
  },
  {
   "cell_type": "code",
   "execution_count": 26,
   "metadata": {},
   "outputs": [],
   "source": [
    "from statsmodels.stats.multicomp import pairwise_tukeyhsd\n",
    "import statsmodels.api as sm\n",
    "from statsmodels.formula.api import ols"
   ]
  },
  {
   "cell_type": "code",
   "execution_count": 27,
   "metadata": {},
   "outputs": [
    {
     "name": "stdout",
     "output_type": "stream",
     "text": [
      "ANOVA table for sepal_width:\n",
      "             df     sum_sq   mean_sq         F        PR(>F)\n",
      "species     2.0  11.344933  5.672467  49.16004  4.492017e-17\n",
      "Residual  147.0  16.962000  0.115388       NaN           NaN\n"
     ]
    }
   ],
   "source": [
    "model = ols('sepal_width ~ species', data=iris).fit()\n",
    "anova_table = sm.stats.anova_lm(model, typ=1)\n",
    "\n",
    "# Print the ANOVA table\n",
    "print(\"ANOVA table for sepal_width:\")\n",
    "print(anova_table)"
   ]
  },
  {
   "cell_type": "code",
   "execution_count": 28,
   "metadata": {},
   "outputs": [
    {
     "data": {
      "text/plain": [
       "(16.961999999999996, 147.0)"
      ]
     },
     "execution_count": 28,
     "metadata": {},
     "output_type": "execute_result"
    }
   ],
   "source": [
    "ssw = anova_table['sum_sq']['Residual']\n",
    "df_within = anova_table['df']['Residual']\n",
    "ssw, df_within"
   ]
  },
  {
   "cell_type": "code",
   "execution_count": 29,
   "metadata": {},
   "outputs": [
    {
     "data": {
      "text/plain": [
       "0.11538775510204079"
      ]
     },
     "execution_count": 29,
     "metadata": {},
     "output_type": "execute_result"
    }
   ],
   "source": [
    "ms_within = ssw / df_within\n",
    "ms_within"
   ]
  },
  {
   "cell_type": "code",
   "execution_count": 30,
   "metadata": {},
   "outputs": [
    {
     "name": "stdout",
     "output_type": "stream",
     "text": [
      "    Multiple Comparison of Means - Tukey HSD, FWER=0.05     \n",
      "============================================================\n",
      "  group1     group2   meandiff p-adj   lower   upper  reject\n",
      "------------------------------------------------------------\n",
      "    setosa versicolor   -0.658    0.0 -0.8189 -0.4971   True\n",
      "    setosa  virginica   -0.454    0.0 -0.6149 -0.2931   True\n",
      "versicolor  virginica    0.204 0.0088  0.0431  0.3649   True\n",
      "------------------------------------------------------------\n"
     ]
    }
   ],
   "source": [
    "tukey = pairwise_tukeyhsd(endog=iris['sepal_width'], groups=iris['species'], alpha=0.05,)\n",
    "print(tukey)"
   ]
  },
  {
   "cell_type": "code",
   "execution_count": 31,
   "metadata": {},
   "outputs": [
    {
     "data": {
      "text/plain": [
       "(-0.6579999999999995, -0.45399999999999974, 0.20399999999999974)"
      ]
     },
     "execution_count": 31,
     "metadata": {},
     "output_type": "execute_result"
    }
   ],
   "source": [
    "(versicolor_sepal_width.mean() - setosa_sepal_width.mean()),\\\n",
    "(virginica_sepal_width.mean() - setosa_sepal_width.mean()),\\\n",
    "(virginica_sepal_width.mean() - versicolor_sepal_width.mean())"
   ]
  },
  {
   "cell_type": "code",
   "execution_count": 32,
   "metadata": {},
   "outputs": [
    {
     "data": {
      "text/plain": [
       "species\n",
       "setosa        50\n",
       "versicolor    50\n",
       "virginica     50\n",
       "Name: count, dtype: int64"
      ]
     },
     "execution_count": 32,
     "metadata": {},
     "output_type": "execute_result"
    }
   ],
   "source": [
    "group_sizes = iris['species'].value_counts()\n",
    "group_sizes"
   ]
  },
  {
   "cell_type": "code",
   "execution_count": 56,
   "metadata": {},
   "outputs": [
    {
     "name": "stdout",
     "output_type": "stream",
     "text": [
      "Standard Error of Mean Differences (SEM): 0.04803909972138129\n"
     ]
    }
   ],
   "source": [
    "SEM = np.sqrt(ms_within/50)\n",
    "print(\"Standard Error of Mean Differences (SEM):\", SEM)"
   ]
  },
  {
   "cell_type": "code",
   "execution_count": 57,
   "metadata": {},
   "outputs": [],
   "source": [
    "from statsmodels.stats.libqsturng import psturng, qsturng\n",
    "import scipy.stats as stats\n"
   ]
  },
  {
   "cell_type": "code",
   "execution_count": 58,
   "metadata": {},
   "outputs": [
    {
     "data": {
      "text/plain": [
       "(3.3486786077613293, 3.348424061167291)"
      ]
     },
     "execution_count": 58,
     "metadata": {},
     "output_type": "execute_result"
    }
   ],
   "source": [
    "q_critical = qsturng(1 - alpha, 3, df_within)\n",
    "q_critical, tukey.q_crit"
   ]
  },
  {
   "cell_type": "code",
   "execution_count": 59,
   "metadata": {},
   "outputs": [
    {
     "data": {
      "text/plain": [
       "((-0.8188675055731023, -0.4971324944268967),\n",
       " (-0.6148675055731025, -0.293132494426897),\n",
       " (0.04313249442689698, 0.3648675055731025))"
      ]
     },
     "execution_count": 59,
     "metadata": {},
     "output_type": "execute_result"
    }
   ],
   "source": [
    "((versicolor_sepal_width.mean() - setosa_sepal_width.mean()) - q_critical * SEM , (versicolor_sepal_width.mean() - setosa_sepal_width.mean()) + q_critical * SEM),\\\n",
    "((virginica_sepal_width.mean() - setosa_sepal_width.mean()) - q_critical * SEM , (virginica_sepal_width.mean() - setosa_sepal_width.mean()) + q_critical * SEM),\\\n",
    "((virginica_sepal_width.mean() - versicolor_sepal_width.mean()) - q_critical * SEM , (virginica_sepal_width.mean() - versicolor_sepal_width.mean()) + q_critical * SEM),"
   ]
  },
  {
   "cell_type": "code",
   "execution_count": 49,
   "metadata": {},
   "outputs": [
    {
     "data": {
      "text/plain": [
       "array([0.0480391, 0.0480391, 0.0480391])"
      ]
     },
     "execution_count": 49,
     "metadata": {},
     "output_type": "execute_result"
    }
   ],
   "source": [
    "tukey.std_pairs"
   ]
  },
  {
   "cell_type": "code",
   "execution_count": 50,
   "metadata": {},
   "outputs": [
    {
     "data": {
      "text/plain": [
       "(array([-13.69717592,  -9.45063506,   4.24654086]),\n",
       " array([2.15383267e-14, 1.36073197e-09, 8.78020571e-03]))"
      ]
     },
     "execution_count": 50,
     "metadata": {},
     "output_type": "execute_result"
    }
   ],
   "source": [
    "tukey.meandiffs/tukey.std_pairs, tukey.pvalues"
   ]
  },
  {
   "cell_type": "code",
   "execution_count": 51,
   "metadata": {},
   "outputs": [
    {
     "data": {
      "text/plain": [
       "(13.697175921619868, 0.001)"
      ]
     },
     "execution_count": 51,
     "metadata": {},
     "output_type": "execute_result"
    }
   ],
   "source": [
    "q_stat = (setosa_sepal_width.mean() - versicolor_sepal_width.mean())/SEM\n",
    "q_stat, psturng(q_stat,3,147)"
   ]
  },
  {
   "cell_type": "code",
   "execution_count": 52,
   "metadata": {},
   "outputs": [
    {
     "data": {
      "text/plain": [
       "(9.4506350583821, 0.001)"
      ]
     },
     "execution_count": 52,
     "metadata": {},
     "output_type": "execute_result"
    }
   ],
   "source": [
    "q_stat = (setosa_sepal_width.mean() - virginica_sepal_width.mean())/SEM\n",
    "q_stat, psturng(q_stat,3,147)"
   ]
  },
  {
   "cell_type": "code",
   "execution_count": 53,
   "metadata": {},
   "outputs": [
    {
     "data": {
      "text/plain": [
       "(-4.246540863237768, array([0.00877884]))"
      ]
     },
     "execution_count": 53,
     "metadata": {},
     "output_type": "execute_result"
    }
   ],
   "source": [
    "q_stat = (versicolor_sepal_width.mean() - virginica_sepal_width.mean())/SEM\n",
    "q_stat, psturng(-q_stat,3,147)"
   ]
  },
  {
   "cell_type": "code",
   "execution_count": null,
   "metadata": {},
   "outputs": [],
   "source": []
  }
 ],
 "metadata": {
  "kernelspec": {
   "display_name": "ds",
   "language": "python",
   "name": "python3"
  },
  "language_info": {
   "codemirror_mode": {
    "name": "ipython",
    "version": 3
   },
   "file_extension": ".py",
   "mimetype": "text/x-python",
   "name": "python",
   "nbconvert_exporter": "python",
   "pygments_lexer": "ipython3",
   "version": "3.11.9"
  }
 },
 "nbformat": 4,
 "nbformat_minor": 2
}
