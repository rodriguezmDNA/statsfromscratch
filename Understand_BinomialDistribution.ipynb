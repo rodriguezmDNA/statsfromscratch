{
 "cells": [
  {
   "cell_type": "markdown",
   "id": "be367c20",
   "metadata": {},
   "source": [
    "## Binomial Distribution\n",
    "\n",
    "\n",
    "#### 1. From [StatQuest](https://www.youtube.com/watch?v=J8jNoF-K8E8)"
   ]
  },
  {
   "cell_type": "code",
   "execution_count": 77,
   "id": "357503c6",
   "metadata": {
    "ExecuteTime": {
     "end_time": "2022-02-14T02:50:08.773152Z",
     "start_time": "2022-02-14T02:50:08.770280Z"
    }
   },
   "outputs": [],
   "source": [
    "import pandas as pd\n",
    "import numpy as np\n",
    "# from math import comb #python needs updating"
   ]
  },
  {
   "cell_type": "markdown",
   "id": "5a1e8cee",
   "metadata": {
    "ExecuteTime": {
     "end_time": "2022-02-14T01:39:30.638005Z",
     "start_time": "2022-02-14T01:39:30.632842Z"
    }
   },
   "source": [
    "Probability that people equally like orange vs grape fanta.\n",
    "\n",
    "Binomial distribution to model what to expect when there is no preference (difference) between two choices (outcomes).\n",
    "\n",
    "* If there is no preference, there is a 50% chance of either choice.\n",
    "* In a string of outcomes, the probability of observing the data is given by multiplying their individual probabilities"
   ]
  },
  {
   "cell_type": "code",
   "execution_count": 3,
   "id": "081c67e8",
   "metadata": {
    "ExecuteTime": {
     "end_time": "2022-02-14T01:42:37.526095Z",
     "start_time": "2022-02-14T01:42:37.523073Z"
    }
   },
   "outputs": [],
   "source": [
    "O = 'O'\n",
    "G = 'G'\n",
    "prob = {'O':0.5,'G':0.5}"
   ]
  },
  {
   "cell_type": "code",
   "execution_count": 4,
   "id": "2f58a62c",
   "metadata": {
    "ExecuteTime": {
     "end_time": "2022-02-14T01:42:40.057099Z",
     "start_time": "2022-02-14T01:42:40.043102Z"
    }
   },
   "outputs": [
    {
     "data": {
      "text/plain": [
       "['O', 'O', 'G']"
      ]
     },
     "execution_count": 4,
     "metadata": {},
     "output_type": "execute_result"
    }
   ],
   "source": [
    "obs = [O,O,G]\n",
    "obs"
   ]
  },
  {
   "cell_type": "code",
   "execution_count": 10,
   "id": "c8460c02",
   "metadata": {
    "ExecuteTime": {
     "end_time": "2022-02-14T01:43:25.615277Z",
     "start_time": "2022-02-14T01:43:25.608126Z"
    }
   },
   "outputs": [
    {
     "data": {
      "text/plain": [
       "0.125"
      ]
     },
     "execution_count": 10,
     "metadata": {},
     "output_type": "execute_result"
    }
   ],
   "source": [
    "prob_of_event = np.prod([prob[_] for _ in obs])\n",
    "prob_of_event"
   ]
  },
  {
   "cell_type": "markdown",
   "id": "4cbbfd80",
   "metadata": {},
   "source": [
    "`0.125` is the probability of asking 3 people their prefernce and them saying `O`,`O`, and `G` in that order.\n",
    "\n",
    "It is **not** the probability that 2/3 people will prefer `O` over `G`.\n",
    "\n",
    "The sequence of events could've been `[O,G,O]`, or `[G,O,O]`.\n",
    "The probabilities of these events are `0.125` each, so the total probability that *2/3 prefer O over G* would be `0.125 x 3` or `0.375` \n"
   ]
  },
  {
   "cell_type": "code",
   "execution_count": 47,
   "id": "ea896301",
   "metadata": {
    "ExecuteTime": {
     "end_time": "2022-02-14T02:40:19.888193Z",
     "start_time": "2022-02-14T02:40:19.881717Z"
    }
   },
   "outputs": [],
   "source": [
    "import math\n",
    "\n",
    "def binom(n, k):\n",
    "    '''\n",
    "    Number of ways to arrange k/n observations\n",
    "    ie. if n=3 and k=1\n",
    "    1. [1,0,0]\n",
    "    2. [0,1,0]\n",
    "    3. [0,0,1]\n",
    "    \n",
    "    '''\n",
    "    return math.factorial(n) // math.factorial(k) // math.factorial(n - k)\n",
    "\n",
    "## the first term is the number of ways a \n",
    "# result can be obtained in a sequencew\n",
    "## The second weights the probability of success \n",
    "## The third term weights the probability of failure (1-p to the power of n-x, aka, failures)\n",
    "def p_binom(x,n,p):\n",
    "    return binom(n,x)  * (p**x) * ((1-p) **(n-x))"
   ]
  },
  {
   "cell_type": "code",
   "execution_count": 48,
   "id": "19ef7c2a",
   "metadata": {
    "ExecuteTime": {
     "end_time": "2022-02-14T02:40:26.615316Z",
     "start_time": "2022-02-14T02:40:26.608006Z"
    }
   },
   "outputs": [
    {
     "data": {
      "text/plain": [
       "0.375"
      ]
     },
     "execution_count": 48,
     "metadata": {},
     "output_type": "execute_result"
    }
   ],
   "source": [
    "#prob of k (prob of success) given the data (x,p)\n",
    "n = 3\n",
    "x = 1\n",
    "p = 0.5\n",
    "p_binom(x,n,p)"
   ]
  },
  {
   "cell_type": "markdown",
   "id": "101c1a58",
   "metadata": {
    "ExecuteTime": {
     "end_time": "2022-02-14T02:39:39.747570Z",
     "start_time": "2022-02-14T02:39:39.741259Z"
    }
   },
   "source": [
    "### Developing the intution with simulations"
   ]
  },
  {
   "cell_type": "code",
   "execution_count": 95,
   "id": "70fa03b3",
   "metadata": {
    "ExecuteTime": {
     "end_time": "2022-02-17T05:08:18.942279Z",
     "start_time": "2022-02-17T05:08:18.938311Z"
    }
   },
   "outputs": [],
   "source": [
    "def generateRandomSample(n = 3):\n",
    "    ransample = [random.choices([O,G],[0.5,0.5]) for i in range(0,n)]\n",
    "    ransample = sum(ransample,[])\n",
    "    return ransample"
   ]
  },
  {
   "cell_type": "code",
   "execution_count": 60,
   "id": "1af92849",
   "metadata": {
    "ExecuteTime": {
     "end_time": "2022-02-14T02:46:32.620808Z",
     "start_time": "2022-02-14T02:46:32.616988Z"
    }
   },
   "outputs": [],
   "source": [
    "### prob of success is defined as 1/3 prefering O"
   ]
  },
  {
   "cell_type": "code",
   "execution_count": 99,
   "id": "d75166a7",
   "metadata": {
    "ExecuteTime": {
     "end_time": "2022-02-17T05:09:31.111932Z",
     "start_time": "2022-02-17T05:09:31.106140Z"
    }
   },
   "outputs": [],
   "source": [
    "from collections import Counter\n",
    "def is_success(ransample,success='G',x=1):\n",
    "    return Counter(ransample)[success] == x\n",
    "\n",
    "### What is the fraction of times the desired event is observed?\n",
    "\n",
    "def get_prob_simulation(n=3,success='G',x=1,n_iters = 10000):\n",
    "    count_success=0\n",
    "    for i in range(0,n_iters):\n",
    "        output = generateRandomSample(n)\n",
    "        if is_success(output,success,x):\n",
    "            count_success += 1\n",
    "    return count_success/n_iters        "
   ]
  },
  {
   "cell_type": "code",
   "execution_count": 100,
   "id": "11e9c9cc",
   "metadata": {
    "ExecuteTime": {
     "end_time": "2022-02-17T05:09:37.291035Z",
     "start_time": "2022-02-17T05:09:37.168250Z"
    }
   },
   "outputs": [
    {
     "data": {
      "text/plain": [
       "0.3678"
      ]
     },
     "execution_count": 100,
     "metadata": {},
     "output_type": "execute_result"
    }
   ],
   "source": [
    "get_prob_simulation()"
   ]
  },
  {
   "cell_type": "code",
   "execution_count": 101,
   "id": "a9db0868",
   "metadata": {
    "ExecuteTime": {
     "end_time": "2022-02-17T05:10:07.438930Z",
     "start_time": "2022-02-17T05:09:46.729282Z"
    }
   },
   "outputs": [
    {
     "data": {
      "text/plain": [
       "0.0"
      ]
     },
     "execution_count": 101,
     "metadata": {},
     "output_type": "execute_result"
    }
   ],
   "source": [
    "### Repeat many times and get average\n",
    "average_many_sims = np.average([get_prob_simulation(100) for _ in range(0,10)])\n",
    "round(average_many_sims,3)"
   ]
  },
  {
   "cell_type": "markdown",
   "id": "c4d38083",
   "metadata": {},
   "source": [
    "Result (`0.375+-.00n`) is very similar to the exact result from the binomial distribution calculation"
   ]
  },
  {
   "cell_type": "markdown",
   "id": "7d5f5084",
   "metadata": {},
   "source": [
    "If, from a sample of 7 people, 4 prefer O and 3 G. \n",
    "\n",
    "* Can we conclude that, in general, more people prefer `O` than `G`?\n",
    "* What is the probability that someone at random out prefer `O`?"
   ]
  },
  {
   "cell_type": "code",
   "execution_count": 93,
   "id": "6ffa5788",
   "metadata": {
    "ExecuteTime": {
     "end_time": "2022-02-17T05:05:33.637014Z",
     "start_time": "2022-02-17T05:05:33.625534Z"
    }
   },
   "outputs": [
    {
     "data": {
      "text/plain": [
       "0.2734375"
      ]
     },
     "execution_count": 93,
     "metadata": {},
     "output_type": "execute_result"
    }
   ],
   "source": [
    "n = 7\n",
    "x = 4\n",
    "p = 0.5\n",
    "p_binom(x,n,p)"
   ]
  },
  {
   "cell_type": "markdown",
   "id": "6fd0785b",
   "metadata": {},
   "source": [
    "`0.273` is the probability that someone at random would pick `O` over `G` if this observation were true."
   ]
  },
  {
   "cell_type": "markdown",
   "id": "dbbd8814",
   "metadata": {},
   "source": [
    "Using simulations we get an approximation:\n",
    "\n",
    "<code>\n",
    "The probability that from 7 people, <em>O</em> is picked  by 4 if the probabilities of each are the same.\n",
    "</code>"
   ]
  },
  {
   "cell_type": "code",
   "execution_count": 111,
   "id": "6f530574",
   "metadata": {
    "ExecuteTime": {
     "end_time": "2022-02-17T05:12:46.223146Z",
     "start_time": "2022-02-17T05:12:45.275459Z"
    }
   },
   "outputs": [
    {
     "data": {
      "text/plain": [
       "0.27626"
      ]
     },
     "execution_count": 111,
     "metadata": {},
     "output_type": "execute_result"
    }
   ],
   "source": [
    "get_prob_simulation(7,'O',4,50000)"
   ]
  },
  {
   "cell_type": "markdown",
   "id": "bae08921",
   "metadata": {},
   "source": [
    "Probability of this event or rarer (that 4 or more people prefer `O`) is the sum of thes events:"
   ]
  },
  {
   "cell_type": "code",
   "execution_count": 133,
   "id": "9aa127be",
   "metadata": {
    "ExecuteTime": {
     "end_time": "2022-02-17T05:16:40.544832Z",
     "start_time": "2022-02-17T05:16:40.539498Z"
    }
   },
   "outputs": [
    {
     "data": {
      "text/plain": [
       "0.5"
      ]
     },
     "execution_count": 133,
     "metadata": {},
     "output_type": "execute_result"
    }
   ],
   "source": [
    "p_binom(4,7,0.5) +\\\n",
    "p_binom(5,7,0.5) +\\\n",
    "p_binom(6,7,0.5) +\\\n",
    "p_binom(7,7,0.5)"
   ]
  },
  {
   "cell_type": "markdown",
   "id": "19e4c5c3",
   "metadata": {},
   "source": [
    "The sum of the opposite events (`G` is preferred) gives the total prbability of the observations.\n",
    "\n",
    "In this case the total sums to 1"
   ]
  },
  {
   "cell_type": "code",
   "execution_count": 141,
   "id": "86d7bda6",
   "metadata": {
    "ExecuteTime": {
     "end_time": "2022-02-17T05:19:57.438701Z",
     "start_time": "2022-02-17T05:19:57.434089Z"
    }
   },
   "outputs": [
    {
     "data": {
      "text/plain": [
       "1.0"
      ]
     },
     "execution_count": 141,
     "metadata": {},
     "output_type": "execute_result"
    }
   ],
   "source": [
    "sum([p_binom(i,7,0.75) for i in range(4,7+1)]) +\\\n",
    "sum([p_binom(i,7,1-0.75) for i in range(4,7+1)])"
   ]
  },
  {
   "cell_type": "code",
   "execution_count": 148,
   "id": "e092c00d",
   "metadata": {
    "ExecuteTime": {
     "end_time": "2022-02-17T05:21:04.850593Z",
     "start_time": "2022-02-17T05:21:04.844832Z"
    }
   },
   "outputs": [
    {
     "data": {
      "text/plain": [
       "1.0"
      ]
     },
     "execution_count": 148,
     "metadata": {},
     "output_type": "execute_result"
    }
   ],
   "source": [
    "sum([round(p_binom(i,7,0.05),3) for i in range(4,7+1)]) +\\\n",
    "sum([round(p_binom(i,7,1-0.05),3) for i in range(4,7+1)])"
   ]
  },
  {
   "cell_type": "markdown",
   "id": "fbc2b4c2",
   "metadata": {},
   "source": [
    "-- Something is weird about how StatQuest defined these sums to calculate the p-value, they will always be 1."
   ]
  },
  {
   "cell_type": "code",
   "execution_count": null,
   "id": "81248d9f",
   "metadata": {},
   "outputs": [],
   "source": []
  }
 ],
 "metadata": {
  "kernelspec": {
   "display_name": "Python 3",
   "language": "python",
   "name": "python3"
  },
  "language_info": {
   "codemirror_mode": {
    "name": "ipython",
    "version": 3
   },
   "file_extension": ".py",
   "mimetype": "text/x-python",
   "name": "python",
   "nbconvert_exporter": "python",
   "pygments_lexer": "ipython3",
   "version": "3.6.13"
  },
  "varInspector": {
   "cols": {
    "lenName": 16,
    "lenType": 16,
    "lenVar": 40
   },
   "kernels_config": {
    "python": {
     "delete_cmd_postfix": "",
     "delete_cmd_prefix": "del ",
     "library": "var_list.py",
     "varRefreshCmd": "print(var_dic_list())"
    },
    "r": {
     "delete_cmd_postfix": ") ",
     "delete_cmd_prefix": "rm(",
     "library": "var_list.r",
     "varRefreshCmd": "cat(var_dic_list()) "
    }
   },
   "types_to_exclude": [
    "module",
    "function",
    "builtin_function_or_method",
    "instance",
    "_Feature"
   ],
   "window_display": false
  }
 },
 "nbformat": 4,
 "nbformat_minor": 5
}
