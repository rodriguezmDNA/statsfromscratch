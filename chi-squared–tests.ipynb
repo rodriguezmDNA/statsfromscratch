{
 "cells": [
  {
   "cell_type": "markdown",
   "metadata": {},
   "source": [
    "### Chi-squared test for goodness of fit"
   ]
  },
  {
   "cell_type": "code",
   "execution_count": 23,
   "metadata": {},
   "outputs": [],
   "source": [
    "import numpy as np\n",
    "from scipy.stats import chi2, chisquare"
   ]
  },
  {
   "cell_type": "code",
   "execution_count": 1,
   "metadata": {},
   "outputs": [],
   "source": [
    "obs_brown = 86\n",
    "obs_albino = 14\n",
    "\n",
    "exp_brown = 75\n",
    "exp_albino = 25"
   ]
  },
  {
   "cell_type": "code",
   "execution_count": 3,
   "metadata": {},
   "outputs": [
    {
     "data": {
      "text/plain": [
       "(100, 100)"
      ]
     },
     "execution_count": 3,
     "metadata": {},
     "output_type": "execute_result"
    }
   ],
   "source": [
    "obs_brown + obs_albino, exp_albino + exp_brown"
   ]
  },
  {
   "cell_type": "code",
   "execution_count": 25,
   "metadata": {},
   "outputs": [
    {
     "data": {
      "text/plain": [
       "(6.453333333333333, 0.011074437676156615)"
      ]
     },
     "execution_count": 25,
     "metadata": {},
     "output_type": "execute_result"
    }
   ],
   "source": [
    "chi2_stat, p_value = chisquare((obs_brown,obs_albino), (exp_brown, exp_albino))\n",
    "chi2_stat, p_value"
   ]
  },
  {
   "cell_type": "code",
   "execution_count": 52,
   "metadata": {},
   "outputs": [],
   "source": [
    "def chi_square(observed, expected):\n",
    "    return np.sum([(obs - exp)**2 / exp for obs,exp in zip(observed, expected)])\n",
    "    "
   ]
  },
  {
   "cell_type": "code",
   "execution_count": 19,
   "metadata": {},
   "outputs": [
    {
     "data": {
      "text/plain": [
       "6.453333333333333"
      ]
     },
     "execution_count": 19,
     "metadata": {},
     "output_type": "execute_result"
    }
   ],
   "source": [
    "by_hand_chi_stat = chi_square((obs_brown,obs_albino), (exp_brown, exp_albino))\n",
    "by_hand_chi_stat"
   ]
  },
  {
   "cell_type": "code",
   "execution_count": 20,
   "metadata": {},
   "outputs": [
    {
     "data": {
      "text/plain": [
       "True"
      ]
     },
     "execution_count": 20,
     "metadata": {},
     "output_type": "execute_result"
    }
   ],
   "source": [
    "by_hand_chi_stat == chi2_stat"
   ]
  },
  {
   "cell_type": "code",
   "execution_count": 18,
   "metadata": {},
   "outputs": [],
   "source": [
    "df = len((obs_brown,obs_albino)) - 1"
   ]
  },
  {
   "cell_type": "code",
   "execution_count": 26,
   "metadata": {},
   "outputs": [
    {
     "data": {
      "text/plain": [
       "0.011074437676156615"
      ]
     },
     "execution_count": 26,
     "metadata": {},
     "output_type": "execute_result"
    }
   ],
   "source": [
    "by_hand_chi_pval =  chi2.sf(by_hand_chi_stat, df)\n",
    "by_hand_chi_pval"
   ]
  },
  {
   "cell_type": "code",
   "execution_count": 27,
   "metadata": {},
   "outputs": [
    {
     "data": {
      "text/plain": [
       "True"
      ]
     },
     "execution_count": 27,
     "metadata": {},
     "output_type": "execute_result"
    }
   ],
   "source": [
    "by_hand_chi_pval == p_value"
   ]
  },
  {
   "cell_type": "markdown",
   "metadata": {},
   "source": [
    "-----"
   ]
  },
  {
   "cell_type": "code",
   "execution_count": 62,
   "metadata": {},
   "outputs": [],
   "source": [
    "import numpy as np\n",
    "from scipy.stats import chi2_contingency\n",
    "from scipy.stats import chi2"
   ]
  },
  {
   "cell_type": "code",
   "execution_count": 47,
   "metadata": {},
   "outputs": [],
   "source": [
    "site = ['rockhampton','bowen','mackay']\n",
    "infected = [12,7,14]\n",
    "uninfected = [8,13,6]"
   ]
  },
  {
   "cell_type": "code",
   "execution_count": 48,
   "metadata": {},
   "outputs": [
    {
     "name": "stdout",
     "output_type": "stream",
     "text": [
      "[33 27] [20 20 20] 60\n"
     ]
    }
   ],
   "source": [
    "row_total = np.array([infected,uninfected]).sum(1)\n",
    "col_total = np.array([infected,uninfected]).sum(0)\n",
    "\n",
    "\n",
    "if np.sum(row_total) == np.sum(col_total):\n",
    "    grand_total = np.sum(row_total)\n",
    "    print(row_total, col_total, grand_total)"
   ]
  },
  {
   "cell_type": "code",
   "execution_count": 53,
   "metadata": {},
   "outputs": [
    {
     "name": "stdout",
     "output_type": "stream",
     "text": [
      "Expected Values:\n",
      " [[11. 11. 11.]\n",
      " [ 9.  9.  9.]]\n"
     ]
    }
   ],
   "source": [
    "# np.outer(row_total, col_total) calculates the outer product of the row totals and column totals.\n",
    "# Dividing by grand_total gives you the expected values for each cell.\n",
    "\n",
    "\n",
    "expected_vals= np.outer(row_total, col_total) / grand_total\n",
    "print(\"Expected Values:\\n\", expected_vals)"
   ]
  },
  {
   "cell_type": "code",
   "execution_count": 50,
   "metadata": {},
   "outputs": [
    {
     "data": {
      "text/plain": [
       "array([[12,  7, 14],\n",
       "       [ 8, 13,  6]])"
      ]
     },
     "execution_count": 50,
     "metadata": {},
     "output_type": "execute_result"
    }
   ],
   "source": [
    "contingency_table = np.array([infected, uninfected])\n",
    "contingency_table"
   ]
  },
  {
   "cell_type": "code",
   "execution_count": 51,
   "metadata": {},
   "outputs": [
    {
     "data": {
      "text/plain": [
       "(5.252525252525253,\n",
       " 0.07234835041290566,\n",
       " 2,\n",
       " array([[11., 11., 11.],\n",
       "        [ 9.,  9.,  9.]]))"
      ]
     },
     "execution_count": 51,
     "metadata": {},
     "output_type": "execute_result"
    }
   ],
   "source": [
    "# Perform the Chi-Square test of independence\n",
    "chi2, p, dof, expected = chi2_contingency(contingency_table)\n",
    "chi2, p, dof, expected"
   ]
  },
  {
   "cell_type": "code",
   "execution_count": 59,
   "metadata": {},
   "outputs": [
    {
     "data": {
      "text/plain": [
       "5.252525252525253"
      ]
     },
     "execution_count": 59,
     "metadata": {},
     "output_type": "execute_result"
    }
   ],
   "source": [
    "## reshape values to have them as 1D, and use the previously written function\n",
    "by_hand_indep_chi2 = chi_square(contingency_table.reshape(-1),  expected_vals.reshape(-1))\n",
    "by_hand_indep_chi2"
   ]
  },
  {
   "cell_type": "code",
   "execution_count": 75,
   "metadata": {},
   "outputs": [
    {
     "data": {
      "text/plain": [
       "2"
      ]
     },
     "execution_count": 75,
     "metadata": {},
     "output_type": "execute_result"
    }
   ],
   "source": [
    "df = (contingency_table.shape[0] -1) * (contingency_table.shape[1] -1) \n",
    "df"
   ]
  },
  {
   "cell_type": "code",
   "execution_count": 76,
   "metadata": {},
   "outputs": [
    {
     "data": {
      "text/plain": [
       "0.07234835041290566"
      ]
     },
     "execution_count": 76,
     "metadata": {},
     "output_type": "execute_result"
    }
   ],
   "source": [
    "by_hand_chi_independent_pval =  chi2.sf(by_hand_indep_chi2, df)\n",
    "by_hand_chi_independent_pval"
   ]
  },
  {
   "cell_type": "code",
   "execution_count": null,
   "metadata": {},
   "outputs": [],
   "source": []
  }
 ],
 "metadata": {
  "kernelspec": {
   "display_name": "ds",
   "language": "python",
   "name": "python3"
  },
  "language_info": {
   "codemirror_mode": {
    "name": "ipython",
    "version": 3
   },
   "file_extension": ".py",
   "mimetype": "text/x-python",
   "name": "python",
   "nbconvert_exporter": "python",
   "pygments_lexer": "ipython3",
   "version": "3.11.9"
  }
 },
 "nbformat": 4,
 "nbformat_minor": 2
}
